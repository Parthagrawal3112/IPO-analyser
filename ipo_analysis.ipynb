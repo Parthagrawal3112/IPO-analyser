{
  "nbformat": 4,
  "nbformat_minor": 0,
  "metadata": {
    "colab": {
      "provenance": []
    },
    "kernelspec": {
      "name": "python3",
      "display_name": "Python 3"
    },
    "language_info": {
      "name": "python"
    }
  },
  "cells": [
    {
      "cell_type": "code",
      "execution_count": null,
      "metadata": {
        "colab": {
          "base_uri": "https://localhost:8080/"
        },
        "id": "KjLKvzhBUlUW",
        "outputId": "9c4852a0-684f-403a-d7af-ca851acf9f9b"
      },
      "outputs": [
        {
          "output_type": "stream",
          "name": "stdout",
          "text": [
            "                                            Headline Sentiment\n",
            "0  Analysts predict strong debut for upcoming IPO...  Positive\n",
            "1  XYZ Tech faces regulatory hurdles ahead of IPO...   Neutral\n",
            "2     Mixed social media buzz surrounds XYZ Tech IPO   Neutral\n",
            "3  XYZ Tech IPO signals high investment and succe...   Neutral\n"
          ]
        },
        {
          "output_type": "stream",
          "name": "stderr",
          "text": [
            "[nltk_data] Downloading package vader_lexicon to /root/nltk_data...\n",
            "[nltk_data]   Package vader_lexicon is already up-to-date!\n"
          ]
        }
      ],
      "source": [
        "import nltk\n",
        "from nltk.sentiment import SentimentIntensityAnalyzer\n",
        "import pandas as pd\n",
        "\n",
        "nltk.download('vader_lexicon')  # Download lexicon if needed\n",
        "sia = SentimentIntensityAnalyzer()\n",
        "\n",
        "# Sample data\n",
        "news_headlines = [\n",
        "    \"Analysts predict strong debut for upcoming IPO of XYZ Tech\",\n",
        "    \"XYZ Tech faces regulatory hurdles ahead of IPO launch\",\n",
        "    \"Mixed social media buzz surrounds XYZ Tech IPO\",\n",
        "    \"XYZ Tech IPO signals high investment and successfull launch\"\n",
        "]\n",
        "\n",
        "# Function to analyze sentiment of a single text input\n",
        "def analyze_text_sentiment(text):\n",
        "    score = sia.polarity_scores(text)['compound']\n",
        "    if score >= 0.05:\n",
        "        return \"Positive\"\n",
        "    elif score <= -0.05:\n",
        "        return \"Negative\"\n",
        "    else:\n",
        "        return \"Neutral\"\n",
        "\n",
        "# Apply sentiment analysis to news headlines\n",
        "results = []\n",
        "for headline in news_headlines:\n",
        "    results.append(analyze_text_sentiment(headline))\n",
        "\n",
        "# Store results\n",
        "df = pd.DataFrame({'Headline': news_headlines, 'Sentiment': results})\n",
        "print(df)\n"
      ]
    },
    {
      "cell_type": "code",
      "source": [
        "from textblob import TextBlob\n",
        "\n",
        "# Sample data (same as before)\n",
        "news_headlines = [\n",
        "    \"Analysts predict strong debut for upcoming IPO of XYZ Tech\",\n",
        "    \"XYZ Tech faces regulatory hurdles ahead of IPO launch\",\n",
        "    \"Mixed social media buzz surrounds XYZ Tech IPO\",\n",
        "    \"XYZ Tech IPO oversubscribed, signals high investor demand\"\n",
        "]\n",
        "\n",
        "# Function to analyze sentiment using TextBlob\n",
        "def analyze_text_sentiment(text):\n",
        "    analysis = TextBlob(text)\n",
        "    sentiment = analysis.sentiment.polarity  # Polarity between -1 and 1\n",
        "    if sentiment >= 0.1:\n",
        "        return \"Positive\"\n",
        "    elif sentiment <= -0.1:\n",
        "        return \"Negative\"\n",
        "    else:\n",
        "        return \"Neutral\"\n",
        "\n",
        "# Rest of the code is identical\n",
        "results = []\n",
        "for headline in news_headlines:\n",
        "    results.append(analyze_text_sentiment(headline))\n",
        "\n",
        "df = pd.DataFrame({'Headline': news_headlines, 'Sentiment': results})\n",
        "print(df)\n"
      ],
      "metadata": {
        "colab": {
          "base_uri": "https://localhost:8080/"
        },
        "id": "4tX1R8FcV5SR",
        "outputId": "e78e830f-3372-474c-bee2-aa9000d1fe6f"
      },
      "execution_count": null,
      "outputs": [
        {
          "output_type": "stream",
          "name": "stdout",
          "text": [
            "                                            Headline Sentiment\n",
            "0  Analysts predict strong debut for upcoming IPO...  Positive\n",
            "1  XYZ Tech faces regulatory hurdles ahead of IPO...   Neutral\n",
            "2     Mixed social media buzz surrounds XYZ Tech IPO   Neutral\n",
            "3  XYZ Tech IPO oversubscribed, signals high inve...  Positive\n"
          ]
        }
      ]
    },
    {
      "cell_type": "code",
      "source": [
        "import requests\n",
        "import pandas as pd\n",
        "from textblob import TextBlob\n",
        "\n",
        "# Your NewsAPI Key\n",
        "NEWS_API_KEY = \"d70c0c2a5aa946538f520a5a586efcf8\"\n",
        "\n",
        "def analyze_text_sentiment(text):\n",
        "    analysis = TextBlob(text)\n",
        "    sentiment = analysis.sentiment.polarity\n",
        "    if sentiment >= 0.1:\n",
        "        return \"Positive\"\n",
        "    elif sentiment <= -0.1:\n",
        "        return \"Negative\"\n",
        "    else:\n",
        "        return \"Neutral\"\n",
        "\n",
        "def get_news_headlines(company):\n",
        "   url = f'https://newsapi.org/v2/everything?q={company}&apiKey={d70c0c2a5aa946538f520a5a586efcf8}'\n",
        "    response = requests.get(url)\n",
        "\n",
        "    if response.status_code == 200:\n",
        "        data = response.json()\n",
        "        articles = data['articles']\n",
        "        headlines = [article['title'] for article in articles]\n",
        "        return headlines\n",
        "    else:\n",
        "        return None  # Handle cases where the API request fails\n",
        "\n",
        "\n",
        "# Main Part\n",
        "company = \"XYZ Tech\"  # Target IPO company\n",
        "headlines = get_news_headlines(company)\n",
        "\n",
        "if headlines:\n",
        "    results = []\n",
        "    for headline in headlines:\n",
        "        results.append(analyze_text_sentiment(headline))\n",
        "\n",
        "    df = pd.DataFrame({'Headline': headlines, 'Sentiment': results})\n",
        "    print(df)\n",
        "else:\n",
        "    print(\"Error fetching headlines\")\n"
      ],
      "metadata": {
        "colab": {
          "base_uri": "https://localhost:8080/",
          "height": 106
        },
        "id": "m6tSpRJwXVtP",
        "outputId": "c88258d4-aef8-4010-9a3e-7d1894ef5e0e"
      },
      "execution_count": null,
      "outputs": [
        {
          "output_type": "error",
          "ename": "IndentationError",
          "evalue": "unexpected indent (<ipython-input-11-29a6de7d5b1a>, line 20)",
          "traceback": [
            "\u001b[0;36m  File \u001b[0;32m\"<ipython-input-11-29a6de7d5b1a>\"\u001b[0;36m, line \u001b[0;32m20\u001b[0m\n\u001b[0;31m    response = requests.get(url)\u001b[0m\n\u001b[0m    ^\u001b[0m\n\u001b[0;31mIndentationError\u001b[0m\u001b[0;31m:\u001b[0m unexpected indent\n"
          ]
        }
      ]
    },
    {
      "cell_type": "code",
      "source": [
        "import requests\n",
        "import pandas as pd\n",
        "from textblob import TextBlob\n",
        "from nltk.sentiment import SentimentIntensityAnalyzer\n",
        "import nltk\n",
        "\n",
        "nltk.download('vader_lexicon')\n",
        "\n",
        "# Your NewsAPI Key\n",
        "NEWS_API_KEY = \"d70c0c2a5aa946538f520a5a586efcf8\"\n",
        "\n",
        "# Choose your sentiment analyzer (Comment out the one you don't want)\n",
        "def analyze_sentiment_textblob(text):\n",
        "    analysis = TextBlob(text)\n",
        "    sentiment = analysis.sentiment.polarity\n",
        "    if sentiment >= 0.1:\n",
        "        return \"Positive\"\n",
        "    elif sentiment <= -0.1:\n",
        "        return \"Negative\"\n",
        "    else:\n",
        "        return \"Neutral\"\n",
        "\n",
        "# def analyze_sentiment_vader(text):\n",
        "#     sia = SentimentIntensityAnalyzer()\n",
        "#     score = sia.polarity_scores(text)['compound']\n",
        "#     if score >= 0.05:\n",
        "#         return \"Positive\"\n",
        "#     elif score <= -0.05:\n",
        "#         return \"Negative\"\n",
        "#     else:\n",
        "#         return \"Neutral\"\n",
        "\n",
        "# Select your sentiment analysis function\n",
        "sentiment_analyzer = analyze_sentiment_textblob  # Or use analyze_sentiment_vader\n",
        "\n",
        "def get_news_headlines(company):\n",
        "    url = f'https://newsapi.org/v2/everything?q=paytm+ipo&apiKey=d70c0c2a5aa946538f520a5a586efcf8'\n",
        "    response = requests.get(url)\n",
        "\n",
        "    if response.status_code == 200:\n",
        "        data = response.json()\n",
        "        articles = data['articles']\n",
        "        headlines = [article['title'] for article in articles]\n",
        "        return headlines\n",
        "    else:\n",
        "        return None\n",
        "\n",
        "# Main Part\n",
        "company = \"XYZ Tech\"  # Target IPO company\n",
        "headlines = get_news_headlines(company)\n",
        "\n",
        "if headlines:\n",
        "    results = []\n",
        "    for headline in headlines:\n",
        "        results.append(sentiment_analyzer(headline))\n",
        "\n",
        "    df = pd.DataFrame({'Headline': headlines, 'Sentiment': results})\n",
        "    print(df)\n",
        "else:\n",
        "    print(\"Error fetching headlines\")\n"
      ],
      "metadata": {
        "colab": {
          "base_uri": "https://localhost:8080/"
        },
        "id": "lI9rmGSKYG-J",
        "outputId": "c8392499-24c9-4a2e-97d0-9120622aa066"
      },
      "execution_count": null,
      "outputs": [
        {
          "output_type": "stream",
          "name": "stderr",
          "text": [
            "[nltk_data] Downloading package vader_lexicon to /root/nltk_data...\n"
          ]
        },
        {
          "output_type": "stream",
          "name": "stdout",
          "text": [
            "                                             Headline Sentiment\n",
            "0   The rise and stunning fall of Paytm, which onc...  Positive\n",
            "1   The rise and stunning fall of Paytm, which onc...  Positive\n",
            "2   Paytm once had India's largest IPO. Now a cent...   Neutral\n",
            "3          Can fintechs overcome the ‘initial’ scare?   Neutral\n",
            "4   Three years since launch, has Paytm’s mini app...   Neutral\n",
            "5   RBI on IIFL Finance, JM Financial: Actions to ...  Positive\n",
            "6   Paytm once had India's largest IPO. Now a cent...   Neutral\n",
            "7   The rise and stunning fall of Paytm, which onc...  Positive\n",
            "8                         Investment, a loser’s game?  Negative\n",
            "9   Moneycontrol Pro Weekender: Indiaâs coming-o...   Neutral\n",
            "10  Paytm shares extend losses, fall 10% in three ...   Neutral\n",
            "11  स्वस्त झालेल्या अनिल अंबानींच्या शेअरवर गुंतवण...   Neutral\n",
            "12  India's Zomato hits record high, bucking inter...  Positive\n",
            "13  Paytm’s bank is in a state of suspended animat...   Neutral\n",
            "14  Stock Market: क्या 2 मार्च को शनिवार के दिन खु...   Neutral\n",
            "15  Stock Market: एकेकाळी शेअर बाजाराचा होता ‘बाप ...   Neutral\n",
            "16  गुजरात की नमकीन बनाने वाली इस कंपनी का आ रहा ह...   Neutral\n",
            "17  RBI’s action not against Paytm; it is against ...  Positive\n",
            "18  जागतिक महिला दिन: फ्रान्समधील नवा कायदा कोणता?...   Neutral\n",
            "19  1977 से 2024.. कानून तक बनाना पड़ा, बड़ी मजेदा...   Neutral\n",
            "20  India's Swiggy records $200 million loss, docu...   Neutral\n",
            "21  Swiggy records $200 million loss, document sho...   Neutral\n",
            "22  JM Financial tanks 19% as RBI restricts lendin...   Neutral\n",
            "23  India’s booming tech sector suffers a big blow...  Negative\n",
            "24  Google delists apps; Paytm distances itself fr...   Neutral\n",
            "25  SoftBank-backed Swiggy records $200 million lo...   Neutral\n",
            "26  Zomato hits record high, bucking internet stoc...  Positive\n",
            "27  RBI Action: Paytm, IIFL Finance के बाद अब JM F...   Neutral\n",
            "28  Zomato hits record high, bucking internet stoc...  Positive\n",
            "29    अब JM Financial पर गाज, शेयर में जोरदार गिरावट!   Neutral\n",
            "30  JM Financial shares plunge over 10% after RBI ...   Neutral\n",
            "31  Share Market Highlights 15 March 2024: Sensex ...   Neutral\n",
            "32  Prefer NTPC over Tata Power; Tata Chemicals to...  Positive\n",
            "33  More money will still be made in broader marke...  Positive\n",
            "34  Rupeek stares at steep down round; Paytm to be...  Negative\n",
            "35  Tata chip unit gets Cabinet nod; Sridhar Ramas...   Neutral\n",
            "36  RBI, Sebi roil stock market with new crackdown...  Positive\n",
            "37  Consumer durables will probably lag overall ma...   Neutral\n",
            "38  Share Market Highlights 29 February 2024: Sens...   Neutral\n",
            "39  Share Market Highlights 01 March 2024: Sensex ...  Positive\n",
            "40  P2P lenders to stop liquid funds; and other to...  Positive\n",
            "41  Share Market Highlights 22 March 2024: Sensex ...   Neutral\n",
            "42  Sona Machinery IPO 5 मार्च से; प्राइस बैंड, लॉ...   Neutral\n",
            "43  NTPC Green की लिस्ट होने की तैयारी, IPO के काम...  Negative\n",
            "44  एसेट क्वालिटी और रिस्क मैनेजमेंट की चिंताओं की...   Neutral\n",
            "45  Paytm Shares: पेटीएम के शेयरों का 3% टूटा भाव,...   Neutral\n",
            "46  Paytm, IIFL फाइनेंस और अब JM फाइनेंशियल, आखिर ...   Neutral\n",
            "47  IPO से पहले Swiggy की वैल्यूएशन बढ़ी, Baron Ca...   Neutral\n",
            "48  Paytm के 3 करोड़ मर्चेंट्स को खरीदने की होड़; ...   Neutral\n",
            "49  Share Market Highlights 14 March 2024: Sensex,...   Neutral\n",
            "50  Share Market Highlights: Sensex, Nifty hit new...  Positive\n",
            "51  Share Market Highlights 26 March 2024: Sensex ...  Positive\n",
            "52  Share Market Highlights 13 March 2024: Sensex ...  Negative\n"
          ]
        }
      ]
    },
    {
      "cell_type": "code",
      "source": [
        "import requests\n",
        "\n",
        "API_KEY = \"8UQ22CEPU03PIM3W\"\n",
        "BASE_URL = 'https://www.alphavantage.co/query?function=TIME_SERIES_WEEKLY&symbol=IBM&apikey=8UQ22CEPU03PIM3W'\n",
        "\n",
        "\n",
        "def get_stock_info(company_symbol):\n",
        "    function = \"GLOBAL_QUOTE\"\n",
        "    params = {\n",
        "        \"symbol\": company_symbol,\n",
        "        \"apikey\": API_KEY\n",
        "    }\n",
        "\n",
        "    response = requests.get(BASE_URL, params=params)\n",
        "    response.raise_for_status()\n",
        "\n",
        "    try:\n",
        "        data = response.json()\n",
        "        return data[\"Global Quote\"]  # Stock data is within this key\n",
        "    except (KeyError, json.decoder.JSONDecodeError):\n",
        "        return None\n",
        "\n",
        "# Example Usage\n",
        "company_symbol = \"RELIANCE.BSE\"  # Example for Reliance Industries on the Bombay Stock Exchange\n",
        "stock_data = get_stock_info(company_symbol)\n",
        "\n",
        "if stock_data:\n",
        "    print(\"Current Price:\", stock_data[\"05. price\"])\n",
        "    print(\"Open:\", stock_data[\"02. open\"])\n",
        "    print(\"Previous Close:\", stock_data[\"08. previous close\"])\n",
        "    # ... Access other data points\n",
        "else:\n",
        "    print(\"Error fetching stock information\")\n"
      ],
      "metadata": {
        "colab": {
          "base_uri": "https://localhost:8080/",
          "height": 408
        },
        "id": "_bNanyzuqGVs",
        "outputId": "f11e78ce-2813-4e43-b89b-ede027130adf"
      },
      "execution_count": null,
      "outputs": [
        {
          "output_type": "error",
          "ename": "NameError",
          "evalue": "name 'json' is not defined",
          "traceback": [
            "\u001b[0;31m---------------------------------------------------------------------------\u001b[0m",
            "\u001b[0;31mKeyError\u001b[0m                                  Traceback (most recent call last)",
            "\u001b[0;32m<ipython-input-1-047abe5b6ff8>\u001b[0m in \u001b[0;36mget_stock_info\u001b[0;34m(company_symbol)\u001b[0m\n\u001b[1;32m     18\u001b[0m         \u001b[0mdata\u001b[0m \u001b[0;34m=\u001b[0m \u001b[0mresponse\u001b[0m\u001b[0;34m.\u001b[0m\u001b[0mjson\u001b[0m\u001b[0;34m(\u001b[0m\u001b[0;34m)\u001b[0m\u001b[0;34m\u001b[0m\u001b[0;34m\u001b[0m\u001b[0m\n\u001b[0;32m---> 19\u001b[0;31m         \u001b[0;32mreturn\u001b[0m \u001b[0mdata\u001b[0m\u001b[0;34m[\u001b[0m\u001b[0;34m\"Global Quote\"\u001b[0m\u001b[0;34m]\u001b[0m  \u001b[0;31m# Stock data is within this key\u001b[0m\u001b[0;34m\u001b[0m\u001b[0;34m\u001b[0m\u001b[0m\n\u001b[0m\u001b[1;32m     20\u001b[0m     \u001b[0;32mexcept\u001b[0m \u001b[0;34m(\u001b[0m\u001b[0mKeyError\u001b[0m\u001b[0;34m,\u001b[0m \u001b[0mjson\u001b[0m\u001b[0;34m.\u001b[0m\u001b[0mdecoder\u001b[0m\u001b[0;34m.\u001b[0m\u001b[0mJSONDecodeError\u001b[0m\u001b[0;34m)\u001b[0m\u001b[0;34m:\u001b[0m\u001b[0;34m\u001b[0m\u001b[0;34m\u001b[0m\u001b[0m\n",
            "\u001b[0;31mKeyError\u001b[0m: 'Global Quote'",
            "\nDuring handling of the above exception, another exception occurred:\n",
            "\u001b[0;31mNameError\u001b[0m                                 Traceback (most recent call last)",
            "\u001b[0;32m<ipython-input-1-047abe5b6ff8>\u001b[0m in \u001b[0;36m<cell line: 25>\u001b[0;34m()\u001b[0m\n\u001b[1;32m     23\u001b[0m \u001b[0;31m# Example Usage\u001b[0m\u001b[0;34m\u001b[0m\u001b[0;34m\u001b[0m\u001b[0m\n\u001b[1;32m     24\u001b[0m \u001b[0mcompany_symbol\u001b[0m \u001b[0;34m=\u001b[0m \u001b[0;34m\"RELIANCE.BSE\"\u001b[0m  \u001b[0;31m# Example for Reliance Industries on the Bombay Stock Exchange\u001b[0m\u001b[0;34m\u001b[0m\u001b[0;34m\u001b[0m\u001b[0m\n\u001b[0;32m---> 25\u001b[0;31m \u001b[0mstock_data\u001b[0m \u001b[0;34m=\u001b[0m \u001b[0mget_stock_info\u001b[0m\u001b[0;34m(\u001b[0m\u001b[0mcompany_symbol\u001b[0m\u001b[0;34m)\u001b[0m\u001b[0;34m\u001b[0m\u001b[0;34m\u001b[0m\u001b[0m\n\u001b[0m\u001b[1;32m     26\u001b[0m \u001b[0;34m\u001b[0m\u001b[0m\n\u001b[1;32m     27\u001b[0m \u001b[0;32mif\u001b[0m \u001b[0mstock_data\u001b[0m\u001b[0;34m:\u001b[0m\u001b[0;34m\u001b[0m\u001b[0;34m\u001b[0m\u001b[0m\n",
            "\u001b[0;32m<ipython-input-1-047abe5b6ff8>\u001b[0m in \u001b[0;36mget_stock_info\u001b[0;34m(company_symbol)\u001b[0m\n\u001b[1;32m     18\u001b[0m         \u001b[0mdata\u001b[0m \u001b[0;34m=\u001b[0m \u001b[0mresponse\u001b[0m\u001b[0;34m.\u001b[0m\u001b[0mjson\u001b[0m\u001b[0;34m(\u001b[0m\u001b[0;34m)\u001b[0m\u001b[0;34m\u001b[0m\u001b[0;34m\u001b[0m\u001b[0m\n\u001b[1;32m     19\u001b[0m         \u001b[0;32mreturn\u001b[0m \u001b[0mdata\u001b[0m\u001b[0;34m[\u001b[0m\u001b[0;34m\"Global Quote\"\u001b[0m\u001b[0;34m]\u001b[0m  \u001b[0;31m# Stock data is within this key\u001b[0m\u001b[0;34m\u001b[0m\u001b[0;34m\u001b[0m\u001b[0m\n\u001b[0;32m---> 20\u001b[0;31m     \u001b[0;32mexcept\u001b[0m \u001b[0;34m(\u001b[0m\u001b[0mKeyError\u001b[0m\u001b[0;34m,\u001b[0m \u001b[0mjson\u001b[0m\u001b[0;34m.\u001b[0m\u001b[0mdecoder\u001b[0m\u001b[0;34m.\u001b[0m\u001b[0mJSONDecodeError\u001b[0m\u001b[0;34m)\u001b[0m\u001b[0;34m:\u001b[0m\u001b[0;34m\u001b[0m\u001b[0;34m\u001b[0m\u001b[0m\n\u001b[0m\u001b[1;32m     21\u001b[0m         \u001b[0;32mreturn\u001b[0m \u001b[0;32mNone\u001b[0m\u001b[0;34m\u001b[0m\u001b[0;34m\u001b[0m\u001b[0m\n\u001b[1;32m     22\u001b[0m \u001b[0;34m\u001b[0m\u001b[0m\n",
            "\u001b[0;31mNameError\u001b[0m: name 'json' is not defined"
          ]
        }
      ]
    },
    {
      "cell_type": "code",
      "source": [
        "import requests\n",
        "\n",
        "def get_stock_data(symbol, api_key):\n",
        "    url = f\"https://www.alphavantage.co/query?function=TIME_SERIES_DAILY&symbol=ONE97+communications&apikey=FCLWWFYEQVXTL4DI\"\n",
        "    response = requests.get(url)\n",
        "\n",
        "    if response.status_code == 200:\n",
        "        data = response.json()\n",
        "        return data\n",
        "    else:\n",
        "        print(f\"Error: {response.status_code}\")\n",
        "        return None\n",
        "\n",
        "# Replace 'YOUR_API_KEY' with your actual Alpha Vantage API key\n",
        "api_key = 'FCLWWFYEQVXTL4DI'\n",
        "stock_symbol = 'aapl'  # Change this to the stock symbol you want to get data for\n",
        "\n",
        "stock_data = get_stock_data(stock_symbol, api_key)\n",
        "if stock_data and 'Time Series (Daily)' in stock_data:\n",
        "    daily_data = stock_data['Time Series (Daily)']\n",
        "    print(\"Date\\t\\tOpen\\tHigh\\tLow\\tClose\\tVolume\")\n",
        "    for date, info in list(daily_data.items())[:5]:\n",
        "        open_price = info['1. open']\n",
        "        high_price = info['2. high']\n",
        "        low_price = info['3. low']\n",
        "        close_price = info['4. close']\n",
        "        volume = info['5. volume']\n",
        "        print(f\"{date}\\t{open_price}\\t{high_price}\\t{low_price}\\t{close_price}\\t{volume}\")\n",
        "else:\n",
        "    print(\"Failed to fetch stock data.\")\n"
      ],
      "metadata": {
        "colab": {
          "base_uri": "https://localhost:8080/"
        },
        "id": "YWuuSLbXujBK",
        "outputId": "e967f2cb-3bc7-4f29-afc9-68b99072a16c"
      },
      "execution_count": null,
      "outputs": [
        {
          "output_type": "stream",
          "name": "stdout",
          "text": [
            "Date\t\tOpen\tHigh\tLow\tClose\tVolume\n",
            "2024-03-22\t171.7600\t173.0500\t170.0600\t172.2800\t71160138\n",
            "2024-03-21\t177.0500\t177.4900\t170.8400\t171.3700\t106181270\n",
            "2024-03-20\t175.7200\t178.6700\t175.0900\t178.6700\t53423102\n",
            "2024-03-19\t174.3400\t176.6050\t173.0300\t176.0800\t55215244\n",
            "2024-03-18\t175.5700\t177.7100\t173.5200\t173.7200\t75604184\n"
          ]
        }
      ]
    },
    {
      "cell_type": "code",
      "source": [
        "# prompt: get me a code for financial analysis of an ipo analysis software\n",
        "\n",
        "import pandas as pd\n",
        "import numpy as np\n",
        "import yfinance as yf\n",
        "import matplotlib.pyplot as plt\n",
        "\n",
        "# Download historical stock data for the IPO company and the market index\n",
        "company_symbol = \"PAYTM\"  # Replace with the IPO company's ticker symbol\n",
        "market_index = \"^NSE SENSEX\"  # Replace with the market index's ticker symbol\n",
        "start_date = \"2021-01-01\"  # Start date for the data\n",
        "end_date = \"2023-01-01\"  # End date for the data\n",
        "\n",
        "company_data = yf.download(company_symbol, start=start_date, end=end_date)\n",
        "market_data = yf.download(market_index, start=start_date, end=end_date)\n",
        "\n",
        "# Calculate the daily returns for the company and the market\n",
        "company_returns = company_data[\"Close\"].pct_change()\n",
        "market_returns = market_data[\"Close\"].pct_change()\n",
        "\n",
        "# Calculate the cumulative returns for the company and the market\n",
        "company_cumulative_returns = (company_returns + 1).cumprod()\n",
        "market_cumulative_returns = (market_returns + 1).cumprod()\n",
        "\n",
        "# Calculate the beta of the company's stock\n",
        "beta = np.cov(company_returns, market_returns)[0, 0] / np.var(market_returns)\n",
        "\n",
        "# Calculate the alpha of the company's stock\n",
        "alpha = company_returns.mean() - market_returns.mean() - beta * (market_returns.mean() - market_returns.mean())\n",
        "\n",
        "# Print the financial analysis results\n",
        "print(\"Beta:\", beta)\n",
        "print(\"Alpha:\", alpha)\n",
        "\n",
        "# Plot the cumulative returns of the company and the market\n",
        "plt.plot(company_cumulative_returns, label=company_symbol)\n",
        "plt.plot(market_cumulative_returns, label=market_index)\n",
        "plt.legend()\n",
        "plt.show()\n"
      ],
      "metadata": {
        "colab": {
          "base_uri": "https://localhost:8080/",
          "height": 506
        },
        "id": "HZbGSA9KwLmi",
        "outputId": "a952b602-39a4-4c6d-e601-d28f16cf433f"
      },
      "execution_count": null,
      "outputs": [
        {
          "output_type": "stream",
          "name": "stderr",
          "text": [
            "\r[*********************100%%**********************]  1 of 1 completed\n",
            "ERROR:yfinance:\n",
            "1 Failed download:\n",
            "ERROR:yfinance:['PAYTM']: Exception('%ticker%: No timezone found, symbol may be delisted')\n",
            "[*********************100%%**********************]  2 of 2 completed\n",
            "ERROR:yfinance:\n",
            "2 Failed downloads:\n",
            "ERROR:yfinance:['SENSEX', '^NSE']: Exception('%ticker%: No timezone found, symbol may be delisted')\n"
          ]
        },
        {
          "output_type": "error",
          "ename": "ValueError",
          "evalue": "all the input array dimensions except for the concatenation axis must match exactly, but along dimension 1, the array at index 0 has size 0 and the array at index 1 has size 2",
          "traceback": [
            "\u001b[0;31m---------------------------------------------------------------------------\u001b[0m",
            "\u001b[0;31mValueError\u001b[0m                                Traceback (most recent call last)",
            "\u001b[0;32m<ipython-input-4-8bea30eb74b2>\u001b[0m in \u001b[0;36m<cell line: 26>\u001b[0;34m()\u001b[0m\n\u001b[1;32m     24\u001b[0m \u001b[0;34m\u001b[0m\u001b[0m\n\u001b[1;32m     25\u001b[0m \u001b[0;31m# Calculate the beta of the company's stock\u001b[0m\u001b[0;34m\u001b[0m\u001b[0;34m\u001b[0m\u001b[0m\n\u001b[0;32m---> 26\u001b[0;31m \u001b[0mbeta\u001b[0m \u001b[0;34m=\u001b[0m \u001b[0mnp\u001b[0m\u001b[0;34m.\u001b[0m\u001b[0mcov\u001b[0m\u001b[0;34m(\u001b[0m\u001b[0mcompany_returns\u001b[0m\u001b[0;34m,\u001b[0m \u001b[0mmarket_returns\u001b[0m\u001b[0;34m)\u001b[0m\u001b[0;34m[\u001b[0m\u001b[0;36m0\u001b[0m\u001b[0;34m,\u001b[0m \u001b[0;36m0\u001b[0m\u001b[0;34m]\u001b[0m \u001b[0;34m/\u001b[0m \u001b[0mnp\u001b[0m\u001b[0;34m.\u001b[0m\u001b[0mvar\u001b[0m\u001b[0;34m(\u001b[0m\u001b[0mmarket_returns\u001b[0m\u001b[0;34m)\u001b[0m\u001b[0;34m\u001b[0m\u001b[0;34m\u001b[0m\u001b[0m\n\u001b[0m\u001b[1;32m     27\u001b[0m \u001b[0;34m\u001b[0m\u001b[0m\n\u001b[1;32m     28\u001b[0m \u001b[0;31m# Calculate the alpha of the company's stock\u001b[0m\u001b[0;34m\u001b[0m\u001b[0;34m\u001b[0m\u001b[0m\n",
            "\u001b[0;32m/usr/local/lib/python3.10/dist-packages/numpy/lib/function_base.py\u001b[0m in \u001b[0;36mcov\u001b[0;34m(m, y, rowvar, bias, ddof, fweights, aweights, dtype)\u001b[0m\n\u001b[1;32m   2681\u001b[0m         \u001b[0;32mif\u001b[0m \u001b[0;32mnot\u001b[0m \u001b[0mrowvar\u001b[0m \u001b[0;32mand\u001b[0m \u001b[0my\u001b[0m\u001b[0;34m.\u001b[0m\u001b[0mshape\u001b[0m\u001b[0;34m[\u001b[0m\u001b[0;36m0\u001b[0m\u001b[0;34m]\u001b[0m \u001b[0;34m!=\u001b[0m \u001b[0;36m1\u001b[0m\u001b[0;34m:\u001b[0m\u001b[0;34m\u001b[0m\u001b[0;34m\u001b[0m\u001b[0m\n\u001b[1;32m   2682\u001b[0m             \u001b[0my\u001b[0m \u001b[0;34m=\u001b[0m \u001b[0my\u001b[0m\u001b[0;34m.\u001b[0m\u001b[0mT\u001b[0m\u001b[0;34m\u001b[0m\u001b[0;34m\u001b[0m\u001b[0m\n\u001b[0;32m-> 2683\u001b[0;31m         \u001b[0mX\u001b[0m \u001b[0;34m=\u001b[0m \u001b[0mnp\u001b[0m\u001b[0;34m.\u001b[0m\u001b[0mconcatenate\u001b[0m\u001b[0;34m(\u001b[0m\u001b[0;34m(\u001b[0m\u001b[0mX\u001b[0m\u001b[0;34m,\u001b[0m \u001b[0my\u001b[0m\u001b[0;34m)\u001b[0m\u001b[0;34m,\u001b[0m \u001b[0maxis\u001b[0m\u001b[0;34m=\u001b[0m\u001b[0;36m0\u001b[0m\u001b[0;34m)\u001b[0m\u001b[0;34m\u001b[0m\u001b[0;34m\u001b[0m\u001b[0m\n\u001b[0m\u001b[1;32m   2684\u001b[0m \u001b[0;34m\u001b[0m\u001b[0m\n\u001b[1;32m   2685\u001b[0m     \u001b[0;32mif\u001b[0m \u001b[0mddof\u001b[0m \u001b[0;32mis\u001b[0m \u001b[0;32mNone\u001b[0m\u001b[0;34m:\u001b[0m\u001b[0;34m\u001b[0m\u001b[0;34m\u001b[0m\u001b[0m\n",
            "\u001b[0;31mValueError\u001b[0m: all the input array dimensions except for the concatenation axis must match exactly, but along dimension 1, the array at index 0 has size 0 and the array at index 1 has size 2"
          ]
        }
      ]
    },
    {
      "cell_type": "code",
      "source": [
        "# prompt: code for financial analysis of an autonomous ipo analysis software not using yfinance, but another free api\n",
        "\n",
        "import requests\n",
        "\n",
        "def get_stock_data(symbol, api_key):\n",
        "    url = f\"https://www.alphavantage.co/query?function=TIME_SERIES_DAILY&symbol={symbol}&apikey={api_key}\"\n",
        "    response = requests.get(url)\n",
        "\n",
        "    if response.status_code == 200:\n",
        "        data = response.json()\n",
        "        return data\n",
        "    else:\n",
        "        print(f\"Error: {response.status_code}\")\n",
        "        return None\n",
        "\n",
        "# Replace 'YOUR_API_KEY' with your actual Alpha Vantage API key\n",
        "api_key = '8UQ22CEPU03PIM3W'\n",
        "stock_symbol = 'aapl'  # Change this to the stock symbol you want to get data for\n",
        "\n",
        "stock_data = get_stock_data(stock_symbol, api_key)\n",
        "if stock_data and 'Time Series (Daily)' in stock_data:\n",
        "    daily_data = stock_data['Time Series (Daily)']\n",
        "    print(\"Date\\t\\tOpen\\tHigh\\tLow\\tClose\\tVolume\")\n",
        "    for date, info in list(daily_data.items())[:5]:\n",
        "        open_price = info['1. open']\n",
        "        high_price = info['2. high']\n",
        "        low_price = info['3. low']\n",
        "        close_price = info['4. close']\n",
        "        volume = info['5. volume']\n",
        "        print(f\"{date}\\t{open_price}\\t{high_price}\\t{low_price}\\t{close_price}\\t{volume}\")\n",
        "else:\n",
        "    print(\"Failed to fetch stock data.\")"
      ],
      "metadata": {
        "colab": {
          "base_uri": "https://localhost:8080/",
          "height": 373
        },
        "id": "R9l03QG6pv4N",
        "outputId": "fa626b58-1d9a-42dc-f3d8-c5f73121700f"
      },
      "execution_count": null,
      "outputs": [
        {
          "output_type": "error",
          "ename": "FileNotFoundError",
          "evalue": "[Errno 2] No such file or directory: 'company_stock_data.csv'",
          "traceback": [
            "\u001b[0;31m---------------------------------------------------------------------------\u001b[0m",
            "\u001b[0;31mFileNotFoundError\u001b[0m                         Traceback (most recent call last)",
            "\u001b[0;32m<ipython-input-5-b39413a470a8>\u001b[0m in \u001b[0;36m<cell line: 28>\u001b[0;34m()\u001b[0m\n\u001b[1;32m     26\u001b[0m \u001b[0;34m\u001b[0m\u001b[0m\n\u001b[1;32m     27\u001b[0m \u001b[0;31m# Load the stock data\u001b[0m\u001b[0;34m\u001b[0m\u001b[0;34m\u001b[0m\u001b[0m\n\u001b[0;32m---> 28\u001b[0;31m \u001b[0mcompany_data\u001b[0m \u001b[0;34m=\u001b[0m \u001b[0mpd\u001b[0m\u001b[0;34m.\u001b[0m\u001b[0mread_csv\u001b[0m\u001b[0;34m(\u001b[0m\u001b[0;34m\"company_stock_data.csv\"\u001b[0m\u001b[0;34m)\u001b[0m\u001b[0;34m\u001b[0m\u001b[0;34m\u001b[0m\u001b[0m\n\u001b[0m\u001b[1;32m     29\u001b[0m \u001b[0mmarket_data\u001b[0m \u001b[0;34m=\u001b[0m \u001b[0mpd\u001b[0m\u001b[0;34m.\u001b[0m\u001b[0mread_csv\u001b[0m\u001b[0;34m(\u001b[0m\u001b[0;34m\"market_index_data.csv\"\u001b[0m\u001b[0;34m)\u001b[0m\u001b[0;34m\u001b[0m\u001b[0;34m\u001b[0m\u001b[0m\n\u001b[1;32m     30\u001b[0m \u001b[0;34m\u001b[0m\u001b[0m\n",
            "\u001b[0;32m/usr/local/lib/python3.10/dist-packages/pandas/util/_decorators.py\u001b[0m in \u001b[0;36mwrapper\u001b[0;34m(*args, **kwargs)\u001b[0m\n\u001b[1;32m    209\u001b[0m                 \u001b[0;32melse\u001b[0m\u001b[0;34m:\u001b[0m\u001b[0;34m\u001b[0m\u001b[0;34m\u001b[0m\u001b[0m\n\u001b[1;32m    210\u001b[0m                     \u001b[0mkwargs\u001b[0m\u001b[0;34m[\u001b[0m\u001b[0mnew_arg_name\u001b[0m\u001b[0;34m]\u001b[0m \u001b[0;34m=\u001b[0m \u001b[0mnew_arg_value\u001b[0m\u001b[0;34m\u001b[0m\u001b[0;34m\u001b[0m\u001b[0m\n\u001b[0;32m--> 211\u001b[0;31m             \u001b[0;32mreturn\u001b[0m \u001b[0mfunc\u001b[0m\u001b[0;34m(\u001b[0m\u001b[0;34m*\u001b[0m\u001b[0margs\u001b[0m\u001b[0;34m,\u001b[0m \u001b[0;34m**\u001b[0m\u001b[0mkwargs\u001b[0m\u001b[0;34m)\u001b[0m\u001b[0;34m\u001b[0m\u001b[0;34m\u001b[0m\u001b[0m\n\u001b[0m\u001b[1;32m    212\u001b[0m \u001b[0;34m\u001b[0m\u001b[0m\n\u001b[1;32m    213\u001b[0m         \u001b[0;32mreturn\u001b[0m \u001b[0mcast\u001b[0m\u001b[0;34m(\u001b[0m\u001b[0mF\u001b[0m\u001b[0;34m,\u001b[0m \u001b[0mwrapper\u001b[0m\u001b[0;34m)\u001b[0m\u001b[0;34m\u001b[0m\u001b[0;34m\u001b[0m\u001b[0m\n",
            "\u001b[0;32m/usr/local/lib/python3.10/dist-packages/pandas/util/_decorators.py\u001b[0m in \u001b[0;36mwrapper\u001b[0;34m(*args, **kwargs)\u001b[0m\n\u001b[1;32m    329\u001b[0m                     \u001b[0mstacklevel\u001b[0m\u001b[0;34m=\u001b[0m\u001b[0mfind_stack_level\u001b[0m\u001b[0;34m(\u001b[0m\u001b[0;34m)\u001b[0m\u001b[0;34m,\u001b[0m\u001b[0;34m\u001b[0m\u001b[0;34m\u001b[0m\u001b[0m\n\u001b[1;32m    330\u001b[0m                 )\n\u001b[0;32m--> 331\u001b[0;31m             \u001b[0;32mreturn\u001b[0m \u001b[0mfunc\u001b[0m\u001b[0;34m(\u001b[0m\u001b[0;34m*\u001b[0m\u001b[0margs\u001b[0m\u001b[0;34m,\u001b[0m \u001b[0;34m**\u001b[0m\u001b[0mkwargs\u001b[0m\u001b[0;34m)\u001b[0m\u001b[0;34m\u001b[0m\u001b[0;34m\u001b[0m\u001b[0m\n\u001b[0m\u001b[1;32m    332\u001b[0m \u001b[0;34m\u001b[0m\u001b[0m\n\u001b[1;32m    333\u001b[0m         \u001b[0;31m# error: \"Callable[[VarArg(Any), KwArg(Any)], Any]\" has no\u001b[0m\u001b[0;34m\u001b[0m\u001b[0;34m\u001b[0m\u001b[0m\n",
            "\u001b[0;32m/usr/local/lib/python3.10/dist-packages/pandas/io/parsers/readers.py\u001b[0m in \u001b[0;36mread_csv\u001b[0;34m(filepath_or_buffer, sep, delimiter, header, names, index_col, usecols, squeeze, prefix, mangle_dupe_cols, dtype, engine, converters, true_values, false_values, skipinitialspace, skiprows, skipfooter, nrows, na_values, keep_default_na, na_filter, verbose, skip_blank_lines, parse_dates, infer_datetime_format, keep_date_col, date_parser, dayfirst, cache_dates, iterator, chunksize, compression, thousands, decimal, lineterminator, quotechar, quoting, doublequote, escapechar, comment, encoding, encoding_errors, dialect, error_bad_lines, warn_bad_lines, on_bad_lines, delim_whitespace, low_memory, memory_map, float_precision, storage_options)\u001b[0m\n\u001b[1;32m    948\u001b[0m     \u001b[0mkwds\u001b[0m\u001b[0;34m.\u001b[0m\u001b[0mupdate\u001b[0m\u001b[0;34m(\u001b[0m\u001b[0mkwds_defaults\u001b[0m\u001b[0;34m)\u001b[0m\u001b[0;34m\u001b[0m\u001b[0;34m\u001b[0m\u001b[0m\n\u001b[1;32m    949\u001b[0m \u001b[0;34m\u001b[0m\u001b[0m\n\u001b[0;32m--> 950\u001b[0;31m     \u001b[0;32mreturn\u001b[0m \u001b[0m_read\u001b[0m\u001b[0;34m(\u001b[0m\u001b[0mfilepath_or_buffer\u001b[0m\u001b[0;34m,\u001b[0m \u001b[0mkwds\u001b[0m\u001b[0;34m)\u001b[0m\u001b[0;34m\u001b[0m\u001b[0;34m\u001b[0m\u001b[0m\n\u001b[0m\u001b[1;32m    951\u001b[0m \u001b[0;34m\u001b[0m\u001b[0m\n\u001b[1;32m    952\u001b[0m \u001b[0;34m\u001b[0m\u001b[0m\n",
            "\u001b[0;32m/usr/local/lib/python3.10/dist-packages/pandas/io/parsers/readers.py\u001b[0m in \u001b[0;36m_read\u001b[0;34m(filepath_or_buffer, kwds)\u001b[0m\n\u001b[1;32m    603\u001b[0m \u001b[0;34m\u001b[0m\u001b[0m\n\u001b[1;32m    604\u001b[0m     \u001b[0;31m# Create the parser.\u001b[0m\u001b[0;34m\u001b[0m\u001b[0;34m\u001b[0m\u001b[0m\n\u001b[0;32m--> 605\u001b[0;31m     \u001b[0mparser\u001b[0m \u001b[0;34m=\u001b[0m \u001b[0mTextFileReader\u001b[0m\u001b[0;34m(\u001b[0m\u001b[0mfilepath_or_buffer\u001b[0m\u001b[0;34m,\u001b[0m \u001b[0;34m**\u001b[0m\u001b[0mkwds\u001b[0m\u001b[0;34m)\u001b[0m\u001b[0;34m\u001b[0m\u001b[0;34m\u001b[0m\u001b[0m\n\u001b[0m\u001b[1;32m    606\u001b[0m \u001b[0;34m\u001b[0m\u001b[0m\n\u001b[1;32m    607\u001b[0m     \u001b[0;32mif\u001b[0m \u001b[0mchunksize\u001b[0m \u001b[0;32mor\u001b[0m \u001b[0miterator\u001b[0m\u001b[0;34m:\u001b[0m\u001b[0;34m\u001b[0m\u001b[0;34m\u001b[0m\u001b[0m\n",
            "\u001b[0;32m/usr/local/lib/python3.10/dist-packages/pandas/io/parsers/readers.py\u001b[0m in \u001b[0;36m__init__\u001b[0;34m(self, f, engine, **kwds)\u001b[0m\n\u001b[1;32m   1440\u001b[0m \u001b[0;34m\u001b[0m\u001b[0m\n\u001b[1;32m   1441\u001b[0m         \u001b[0mself\u001b[0m\u001b[0;34m.\u001b[0m\u001b[0mhandles\u001b[0m\u001b[0;34m:\u001b[0m \u001b[0mIOHandles\u001b[0m \u001b[0;34m|\u001b[0m \u001b[0;32mNone\u001b[0m \u001b[0;34m=\u001b[0m \u001b[0;32mNone\u001b[0m\u001b[0;34m\u001b[0m\u001b[0;34m\u001b[0m\u001b[0m\n\u001b[0;32m-> 1442\u001b[0;31m         \u001b[0mself\u001b[0m\u001b[0;34m.\u001b[0m\u001b[0m_engine\u001b[0m \u001b[0;34m=\u001b[0m \u001b[0mself\u001b[0m\u001b[0;34m.\u001b[0m\u001b[0m_make_engine\u001b[0m\u001b[0;34m(\u001b[0m\u001b[0mf\u001b[0m\u001b[0;34m,\u001b[0m \u001b[0mself\u001b[0m\u001b[0;34m.\u001b[0m\u001b[0mengine\u001b[0m\u001b[0;34m)\u001b[0m\u001b[0;34m\u001b[0m\u001b[0;34m\u001b[0m\u001b[0m\n\u001b[0m\u001b[1;32m   1443\u001b[0m \u001b[0;34m\u001b[0m\u001b[0m\n\u001b[1;32m   1444\u001b[0m     \u001b[0;32mdef\u001b[0m \u001b[0mclose\u001b[0m\u001b[0;34m(\u001b[0m\u001b[0mself\u001b[0m\u001b[0;34m)\u001b[0m \u001b[0;34m->\u001b[0m \u001b[0;32mNone\u001b[0m\u001b[0;34m:\u001b[0m\u001b[0;34m\u001b[0m\u001b[0;34m\u001b[0m\u001b[0m\n",
            "\u001b[0;32m/usr/local/lib/python3.10/dist-packages/pandas/io/parsers/readers.py\u001b[0m in \u001b[0;36m_make_engine\u001b[0;34m(self, f, engine)\u001b[0m\n\u001b[1;32m   1733\u001b[0m                 \u001b[0;32mif\u001b[0m \u001b[0;34m\"b\"\u001b[0m \u001b[0;32mnot\u001b[0m \u001b[0;32min\u001b[0m \u001b[0mmode\u001b[0m\u001b[0;34m:\u001b[0m\u001b[0;34m\u001b[0m\u001b[0;34m\u001b[0m\u001b[0m\n\u001b[1;32m   1734\u001b[0m                     \u001b[0mmode\u001b[0m \u001b[0;34m+=\u001b[0m \u001b[0;34m\"b\"\u001b[0m\u001b[0;34m\u001b[0m\u001b[0;34m\u001b[0m\u001b[0m\n\u001b[0;32m-> 1735\u001b[0;31m             self.handles = get_handle(\n\u001b[0m\u001b[1;32m   1736\u001b[0m                 \u001b[0mf\u001b[0m\u001b[0;34m,\u001b[0m\u001b[0;34m\u001b[0m\u001b[0;34m\u001b[0m\u001b[0m\n\u001b[1;32m   1737\u001b[0m                 \u001b[0mmode\u001b[0m\u001b[0;34m,\u001b[0m\u001b[0;34m\u001b[0m\u001b[0;34m\u001b[0m\u001b[0m\n",
            "\u001b[0;32m/usr/local/lib/python3.10/dist-packages/pandas/io/common.py\u001b[0m in \u001b[0;36mget_handle\u001b[0;34m(path_or_buf, mode, encoding, compression, memory_map, is_text, errors, storage_options)\u001b[0m\n\u001b[1;32m    854\u001b[0m         \u001b[0;32mif\u001b[0m \u001b[0mioargs\u001b[0m\u001b[0;34m.\u001b[0m\u001b[0mencoding\u001b[0m \u001b[0;32mand\u001b[0m \u001b[0;34m\"b\"\u001b[0m \u001b[0;32mnot\u001b[0m \u001b[0;32min\u001b[0m \u001b[0mioargs\u001b[0m\u001b[0;34m.\u001b[0m\u001b[0mmode\u001b[0m\u001b[0;34m:\u001b[0m\u001b[0;34m\u001b[0m\u001b[0;34m\u001b[0m\u001b[0m\n\u001b[1;32m    855\u001b[0m             \u001b[0;31m# Encoding\u001b[0m\u001b[0;34m\u001b[0m\u001b[0;34m\u001b[0m\u001b[0m\n\u001b[0;32m--> 856\u001b[0;31m             handle = open(\n\u001b[0m\u001b[1;32m    857\u001b[0m                 \u001b[0mhandle\u001b[0m\u001b[0;34m,\u001b[0m\u001b[0;34m\u001b[0m\u001b[0;34m\u001b[0m\u001b[0m\n\u001b[1;32m    858\u001b[0m                 \u001b[0mioargs\u001b[0m\u001b[0;34m.\u001b[0m\u001b[0mmode\u001b[0m\u001b[0;34m,\u001b[0m\u001b[0;34m\u001b[0m\u001b[0;34m\u001b[0m\u001b[0m\n",
            "\u001b[0;31mFileNotFoundError\u001b[0m: [Errno 2] No such file or directory: 'company_stock_data.csv'"
          ]
        }
      ]
    },
    {
      "cell_type": "code",
      "source": [
        "# prompt: code for financial analysis of an autonomous ipo analysis software not using yfinance\n",
        "# Import necessary libraries\n",
        "import pandas as pd\n",
        "import numpy as np\n",
        "\n",
        "# Define a function to calculate the daily returns of a stock\n",
        "def calculate_daily_returns(stock_data):\n",
        "  daily_returns = stock_data[\"Close\"].pct_change()\n",
        "  return daily_returns\n",
        "\n",
        "# Define a function to calculate the cumulative returns of a stock\n",
        "def calculate_cumulative_returns(daily_returns):\n",
        "  cumulative_returns = (daily_returns + 1).cumprod()\n",
        "  return cumulative_returns\n",
        "\n",
        "# Define a function to calculate the beta of a stock\n",
        "def calculate_beta(company_returns, market_returns):\n",
        "  beta = np.cov(company_returns, market_returns)[0, 0] / np.var(market_returns)\n",
        "  return beta\n",
        "\n",
        "# Define a function to calculate the alpha of a stock\n",
        "def calculate_alpha(company_returns, market_returns, beta):\n",
        "  alpha = company_returns.mean() - market_returns.mean() - beta * (market_returns.mean() - market_returns.mean())\n",
        "  return alpha\n",
        "\n",
        "# Load the stock data\n",
        "company_data = pd.read_csv(\"company_stock_data.csv\")\n",
        "market_data = pd.read_csv(\"market_index_data.csv\")\n",
        "\n",
        "# Calculate the daily returns of the company and the market\n",
        "company_returns = calculate_daily_returns(company_data)\n",
        "market_returns = calculate_daily_returns(market_data)\n",
        "\n",
        "# Calculate the cumulative returns of the company and the market\n",
        "company_cumulative_returns = calculate_cumulative_returns(company_returns)\n",
        "market_cumulative_returns = calculate_cumulative_returns(market_returns)\n",
        "\n",
        "# Calculate the beta of the company's stock\n",
        "beta = calculate_beta(company_returns, market_returns)\n",
        "\n",
        "# Calculate the alpha of the company's stock\n",
        "alpha = calculate_alpha(company_returns, market_returns, beta)\n",
        "\n",
        "# Print the financial analysis results\n",
        "print(\"Beta:\", beta)\n",
        "print(\"Alpha:\", alpha)\n",
        "\n",
        "# Plot the cumulative returns of the company and the market\n",
        "plt.plot(company_cumulative_returns, label=company_data[\"Symbol\"])\n",
        "plt.plot(market_cumulative_returns, label=market_data[\"Symbol\"])\n",
        "plt.legend()\n",
        "plt.show()\n"
      ],
      "metadata": {
        "id": "G76CyzHlqED1",
        "colab": {
          "base_uri": "https://localhost:8080/",
          "height": 356
        },
        "outputId": "32747696-0a5c-44ec-ced4-6c97ce0435b2"
      },
      "execution_count": null,
      "outputs": [
        {
          "output_type": "error",
          "ename": "FileNotFoundError",
          "evalue": "[Errno 2] No such file or directory: 'company_stock_data.csv'",
          "traceback": [
            "\u001b[0;31m---------------------------------------------------------------------------\u001b[0m",
            "\u001b[0;31mFileNotFoundError\u001b[0m                         Traceback (most recent call last)",
            "\u001b[0;32m<ipython-input-2-046292b0224c>\u001b[0m in \u001b[0;36m<cell line: 27>\u001b[0;34m()\u001b[0m\n\u001b[1;32m     25\u001b[0m \u001b[0;34m\u001b[0m\u001b[0m\n\u001b[1;32m     26\u001b[0m \u001b[0;31m# Load the stock data\u001b[0m\u001b[0;34m\u001b[0m\u001b[0;34m\u001b[0m\u001b[0m\n\u001b[0;32m---> 27\u001b[0;31m \u001b[0mcompany_data\u001b[0m \u001b[0;34m=\u001b[0m \u001b[0mpd\u001b[0m\u001b[0;34m.\u001b[0m\u001b[0mread_csv\u001b[0m\u001b[0;34m(\u001b[0m\u001b[0;34m\"company_stock_data.csv\"\u001b[0m\u001b[0;34m)\u001b[0m\u001b[0;34m\u001b[0m\u001b[0;34m\u001b[0m\u001b[0m\n\u001b[0m\u001b[1;32m     28\u001b[0m \u001b[0mmarket_data\u001b[0m \u001b[0;34m=\u001b[0m \u001b[0mpd\u001b[0m\u001b[0;34m.\u001b[0m\u001b[0mread_csv\u001b[0m\u001b[0;34m(\u001b[0m\u001b[0;34m\"market_index_data.csv\"\u001b[0m\u001b[0;34m)\u001b[0m\u001b[0;34m\u001b[0m\u001b[0;34m\u001b[0m\u001b[0m\n\u001b[1;32m     29\u001b[0m \u001b[0;34m\u001b[0m\u001b[0m\n",
            "\u001b[0;32m/usr/local/lib/python3.10/dist-packages/pandas/util/_decorators.py\u001b[0m in \u001b[0;36mwrapper\u001b[0;34m(*args, **kwargs)\u001b[0m\n\u001b[1;32m    209\u001b[0m                 \u001b[0;32melse\u001b[0m\u001b[0;34m:\u001b[0m\u001b[0;34m\u001b[0m\u001b[0;34m\u001b[0m\u001b[0m\n\u001b[1;32m    210\u001b[0m                     \u001b[0mkwargs\u001b[0m\u001b[0;34m[\u001b[0m\u001b[0mnew_arg_name\u001b[0m\u001b[0;34m]\u001b[0m \u001b[0;34m=\u001b[0m \u001b[0mnew_arg_value\u001b[0m\u001b[0;34m\u001b[0m\u001b[0;34m\u001b[0m\u001b[0m\n\u001b[0;32m--> 211\u001b[0;31m             \u001b[0;32mreturn\u001b[0m \u001b[0mfunc\u001b[0m\u001b[0;34m(\u001b[0m\u001b[0;34m*\u001b[0m\u001b[0margs\u001b[0m\u001b[0;34m,\u001b[0m \u001b[0;34m**\u001b[0m\u001b[0mkwargs\u001b[0m\u001b[0;34m)\u001b[0m\u001b[0;34m\u001b[0m\u001b[0;34m\u001b[0m\u001b[0m\n\u001b[0m\u001b[1;32m    212\u001b[0m \u001b[0;34m\u001b[0m\u001b[0m\n\u001b[1;32m    213\u001b[0m         \u001b[0;32mreturn\u001b[0m \u001b[0mcast\u001b[0m\u001b[0;34m(\u001b[0m\u001b[0mF\u001b[0m\u001b[0;34m,\u001b[0m \u001b[0mwrapper\u001b[0m\u001b[0;34m)\u001b[0m\u001b[0;34m\u001b[0m\u001b[0;34m\u001b[0m\u001b[0m\n",
            "\u001b[0;32m/usr/local/lib/python3.10/dist-packages/pandas/util/_decorators.py\u001b[0m in \u001b[0;36mwrapper\u001b[0;34m(*args, **kwargs)\u001b[0m\n\u001b[1;32m    329\u001b[0m                     \u001b[0mstacklevel\u001b[0m\u001b[0;34m=\u001b[0m\u001b[0mfind_stack_level\u001b[0m\u001b[0;34m(\u001b[0m\u001b[0;34m)\u001b[0m\u001b[0;34m,\u001b[0m\u001b[0;34m\u001b[0m\u001b[0;34m\u001b[0m\u001b[0m\n\u001b[1;32m    330\u001b[0m                 )\n\u001b[0;32m--> 331\u001b[0;31m             \u001b[0;32mreturn\u001b[0m \u001b[0mfunc\u001b[0m\u001b[0;34m(\u001b[0m\u001b[0;34m*\u001b[0m\u001b[0margs\u001b[0m\u001b[0;34m,\u001b[0m \u001b[0;34m**\u001b[0m\u001b[0mkwargs\u001b[0m\u001b[0;34m)\u001b[0m\u001b[0;34m\u001b[0m\u001b[0;34m\u001b[0m\u001b[0m\n\u001b[0m\u001b[1;32m    332\u001b[0m \u001b[0;34m\u001b[0m\u001b[0m\n\u001b[1;32m    333\u001b[0m         \u001b[0;31m# error: \"Callable[[VarArg(Any), KwArg(Any)], Any]\" has no\u001b[0m\u001b[0;34m\u001b[0m\u001b[0;34m\u001b[0m\u001b[0m\n",
            "\u001b[0;32m/usr/local/lib/python3.10/dist-packages/pandas/io/parsers/readers.py\u001b[0m in \u001b[0;36mread_csv\u001b[0;34m(filepath_or_buffer, sep, delimiter, header, names, index_col, usecols, squeeze, prefix, mangle_dupe_cols, dtype, engine, converters, true_values, false_values, skipinitialspace, skiprows, skipfooter, nrows, na_values, keep_default_na, na_filter, verbose, skip_blank_lines, parse_dates, infer_datetime_format, keep_date_col, date_parser, dayfirst, cache_dates, iterator, chunksize, compression, thousands, decimal, lineterminator, quotechar, quoting, doublequote, escapechar, comment, encoding, encoding_errors, dialect, error_bad_lines, warn_bad_lines, on_bad_lines, delim_whitespace, low_memory, memory_map, float_precision, storage_options)\u001b[0m\n\u001b[1;32m    948\u001b[0m     \u001b[0mkwds\u001b[0m\u001b[0;34m.\u001b[0m\u001b[0mupdate\u001b[0m\u001b[0;34m(\u001b[0m\u001b[0mkwds_defaults\u001b[0m\u001b[0;34m)\u001b[0m\u001b[0;34m\u001b[0m\u001b[0;34m\u001b[0m\u001b[0m\n\u001b[1;32m    949\u001b[0m \u001b[0;34m\u001b[0m\u001b[0m\n\u001b[0;32m--> 950\u001b[0;31m     \u001b[0;32mreturn\u001b[0m \u001b[0m_read\u001b[0m\u001b[0;34m(\u001b[0m\u001b[0mfilepath_or_buffer\u001b[0m\u001b[0;34m,\u001b[0m \u001b[0mkwds\u001b[0m\u001b[0;34m)\u001b[0m\u001b[0;34m\u001b[0m\u001b[0;34m\u001b[0m\u001b[0m\n\u001b[0m\u001b[1;32m    951\u001b[0m \u001b[0;34m\u001b[0m\u001b[0m\n\u001b[1;32m    952\u001b[0m \u001b[0;34m\u001b[0m\u001b[0m\n",
            "\u001b[0;32m/usr/local/lib/python3.10/dist-packages/pandas/io/parsers/readers.py\u001b[0m in \u001b[0;36m_read\u001b[0;34m(filepath_or_buffer, kwds)\u001b[0m\n\u001b[1;32m    603\u001b[0m \u001b[0;34m\u001b[0m\u001b[0m\n\u001b[1;32m    604\u001b[0m     \u001b[0;31m# Create the parser.\u001b[0m\u001b[0;34m\u001b[0m\u001b[0;34m\u001b[0m\u001b[0m\n\u001b[0;32m--> 605\u001b[0;31m     \u001b[0mparser\u001b[0m \u001b[0;34m=\u001b[0m \u001b[0mTextFileReader\u001b[0m\u001b[0;34m(\u001b[0m\u001b[0mfilepath_or_buffer\u001b[0m\u001b[0;34m,\u001b[0m \u001b[0;34m**\u001b[0m\u001b[0mkwds\u001b[0m\u001b[0;34m)\u001b[0m\u001b[0;34m\u001b[0m\u001b[0;34m\u001b[0m\u001b[0m\n\u001b[0m\u001b[1;32m    606\u001b[0m \u001b[0;34m\u001b[0m\u001b[0m\n\u001b[1;32m    607\u001b[0m     \u001b[0;32mif\u001b[0m \u001b[0mchunksize\u001b[0m \u001b[0;32mor\u001b[0m \u001b[0miterator\u001b[0m\u001b[0;34m:\u001b[0m\u001b[0;34m\u001b[0m\u001b[0;34m\u001b[0m\u001b[0m\n",
            "\u001b[0;32m/usr/local/lib/python3.10/dist-packages/pandas/io/parsers/readers.py\u001b[0m in \u001b[0;36m__init__\u001b[0;34m(self, f, engine, **kwds)\u001b[0m\n\u001b[1;32m   1440\u001b[0m \u001b[0;34m\u001b[0m\u001b[0m\n\u001b[1;32m   1441\u001b[0m         \u001b[0mself\u001b[0m\u001b[0;34m.\u001b[0m\u001b[0mhandles\u001b[0m\u001b[0;34m:\u001b[0m \u001b[0mIOHandles\u001b[0m \u001b[0;34m|\u001b[0m \u001b[0;32mNone\u001b[0m \u001b[0;34m=\u001b[0m \u001b[0;32mNone\u001b[0m\u001b[0;34m\u001b[0m\u001b[0;34m\u001b[0m\u001b[0m\n\u001b[0;32m-> 1442\u001b[0;31m         \u001b[0mself\u001b[0m\u001b[0;34m.\u001b[0m\u001b[0m_engine\u001b[0m \u001b[0;34m=\u001b[0m \u001b[0mself\u001b[0m\u001b[0;34m.\u001b[0m\u001b[0m_make_engine\u001b[0m\u001b[0;34m(\u001b[0m\u001b[0mf\u001b[0m\u001b[0;34m,\u001b[0m \u001b[0mself\u001b[0m\u001b[0;34m.\u001b[0m\u001b[0mengine\u001b[0m\u001b[0;34m)\u001b[0m\u001b[0;34m\u001b[0m\u001b[0;34m\u001b[0m\u001b[0m\n\u001b[0m\u001b[1;32m   1443\u001b[0m \u001b[0;34m\u001b[0m\u001b[0m\n\u001b[1;32m   1444\u001b[0m     \u001b[0;32mdef\u001b[0m \u001b[0mclose\u001b[0m\u001b[0;34m(\u001b[0m\u001b[0mself\u001b[0m\u001b[0;34m)\u001b[0m \u001b[0;34m->\u001b[0m \u001b[0;32mNone\u001b[0m\u001b[0;34m:\u001b[0m\u001b[0;34m\u001b[0m\u001b[0;34m\u001b[0m\u001b[0m\n",
            "\u001b[0;32m/usr/local/lib/python3.10/dist-packages/pandas/io/parsers/readers.py\u001b[0m in \u001b[0;36m_make_engine\u001b[0;34m(self, f, engine)\u001b[0m\n\u001b[1;32m   1733\u001b[0m                 \u001b[0;32mif\u001b[0m \u001b[0;34m\"b\"\u001b[0m \u001b[0;32mnot\u001b[0m \u001b[0;32min\u001b[0m \u001b[0mmode\u001b[0m\u001b[0;34m:\u001b[0m\u001b[0;34m\u001b[0m\u001b[0;34m\u001b[0m\u001b[0m\n\u001b[1;32m   1734\u001b[0m                     \u001b[0mmode\u001b[0m \u001b[0;34m+=\u001b[0m \u001b[0;34m\"b\"\u001b[0m\u001b[0;34m\u001b[0m\u001b[0;34m\u001b[0m\u001b[0m\n\u001b[0;32m-> 1735\u001b[0;31m             self.handles = get_handle(\n\u001b[0m\u001b[1;32m   1736\u001b[0m                 \u001b[0mf\u001b[0m\u001b[0;34m,\u001b[0m\u001b[0;34m\u001b[0m\u001b[0;34m\u001b[0m\u001b[0m\n\u001b[1;32m   1737\u001b[0m                 \u001b[0mmode\u001b[0m\u001b[0;34m,\u001b[0m\u001b[0;34m\u001b[0m\u001b[0;34m\u001b[0m\u001b[0m\n",
            "\u001b[0;32m/usr/local/lib/python3.10/dist-packages/pandas/io/common.py\u001b[0m in \u001b[0;36mget_handle\u001b[0;34m(path_or_buf, mode, encoding, compression, memory_map, is_text, errors, storage_options)\u001b[0m\n\u001b[1;32m    854\u001b[0m         \u001b[0;32mif\u001b[0m \u001b[0mioargs\u001b[0m\u001b[0;34m.\u001b[0m\u001b[0mencoding\u001b[0m \u001b[0;32mand\u001b[0m \u001b[0;34m\"b\"\u001b[0m \u001b[0;32mnot\u001b[0m \u001b[0;32min\u001b[0m \u001b[0mioargs\u001b[0m\u001b[0;34m.\u001b[0m\u001b[0mmode\u001b[0m\u001b[0;34m:\u001b[0m\u001b[0;34m\u001b[0m\u001b[0;34m\u001b[0m\u001b[0m\n\u001b[1;32m    855\u001b[0m             \u001b[0;31m# Encoding\u001b[0m\u001b[0;34m\u001b[0m\u001b[0;34m\u001b[0m\u001b[0m\n\u001b[0;32m--> 856\u001b[0;31m             handle = open(\n\u001b[0m\u001b[1;32m    857\u001b[0m                 \u001b[0mhandle\u001b[0m\u001b[0;34m,\u001b[0m\u001b[0;34m\u001b[0m\u001b[0;34m\u001b[0m\u001b[0m\n\u001b[1;32m    858\u001b[0m                 \u001b[0mioargs\u001b[0m\u001b[0;34m.\u001b[0m\u001b[0mmode\u001b[0m\u001b[0;34m,\u001b[0m\u001b[0;34m\u001b[0m\u001b[0;34m\u001b[0m\u001b[0m\n",
            "\u001b[0;31mFileNotFoundError\u001b[0m: [Errno 2] No such file or directory: 'company_stock_data.csv'"
          ]
        }
      ]
    }
  ]
}